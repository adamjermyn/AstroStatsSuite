{
 "cells": [
  {
   "cell_type": "code",
   "execution_count": 1,
   "metadata": {
    "collapsed": true
   },
   "outputs": [],
   "source": [
    "%matplotlib inline  \n",
    "import numpy as np\n",
    "import matplotlib.pyplot as plt"
   ]
  },
  {
   "cell_type": "code",
   "execution_count": 2,
   "metadata": {
    "collapsed": true
   },
   "outputs": [],
   "source": [
    "import sys\n",
    "sys.path.append('../Fit Code/')"
   ]
  },
  {
   "cell_type": "code",
   "execution_count": 16,
   "metadata": {
    "collapsed": false
   },
   "outputs": [],
   "source": [
    "from medians import medianFit\n",
    "from means import meanFit"
   ]
  },
  {
   "cell_type": "code",
   "execution_count": 32,
   "metadata": {
    "collapsed": true
   },
   "outputs": [],
   "source": [
    "xMin = 0\n",
    "xMax = 10\n",
    "num = 100\n",
    "def cubic(x):\n",
    "    return x**3\n",
    "x = np.random.rand(num)*(xMax - xMin) + xMin\n",
    "inds = np.argsort(x)\n",
    "x = x[inds]\n",
    "y = cubic(x) + np.random.randn(len(x))"
   ]
  },
  {
   "cell_type": "code",
   "execution_count": 33,
   "metadata": {
    "collapsed": false
   },
   "outputs": [
    {
     "name": "stdout",
     "output_type": "stream",
     "text": [
      "96\n",
      "[2, 3, 4, 5, 6, 7, 8, 9, 10, 11, 12, 13, 14, 15, 16, 17, 18, 19, 20, 21, 22, 23, 24, 25, 26, 27, 28, 29, 30, 31, 32, 33, 34, 35, 36, 37, 38, 39, 40, 41, 42, 43, 44, 45, 46, 47, 48, 49, 50, 51, 52, 53, 54, 55, 56, 57, 58, 59, 60, 61, 62, 63, 64, 65, 66, 67, 68, 69, 70, 71, 72, 73, 74, 75, 76, 77, 78, 79, 80, 81, 82, 83, 84, 85, 86, 87, 88, 89, 90, 91, 92, 93, 94, 95, 96, 97]\n"
     ]
    },
    {
     "data": {
      "image/png": "[encoded data removed]",
      "text/plain": [
       "<matplotlib.figure.Figure at 0x10df8c240>"
      ]
     },
     "metadata": {},
     "output_type": "display_data"
    }
   ],
   "source": [
    "predictions, params, indices, model = medianFit(x, y, 5)\n",
    "predictions1, params1, indices1, model1 = meanFit(x, y, 5)\n",
    "plt.scatter(x,y)\n",
    "plt.scatter(x[indices],predictions,c='r')\n",
    "plt.scatter(x[indices],predictions1,c='k')\n",
    "print(len(indices1))\n",
    "print(list(indices1))"
   ]
  },
  {
   "cell_type": "code",
   "execution_count": 34,
   "metadata": {
    "collapsed": false
   },
   "outputs": [
    {
     "data": {
      "text/plain": [
       "<matplotlib.collections.PathCollection at 0x10e1ba7f0>"
      ]
     },
     "execution_count": 34,
     "metadata": {},
     "output_type": "execute_result"
    },
    {
     "data": {
      "image/png": "[encoded data removed]",
      "text/plain": [
       "<matplotlib.figure.Figure at 0x10d928a58>"
      ]
     },
     "metadata": {},
     "output_type": "display_data"
    }
   ],
   "source": [
    "plt.scatter(x[indices],predictions - x[indices]**3,c='r')\n",
    "plt.scatter(x[indices],predictions1 - x[indices]**3,c='k')"
   ]
  },
  {
   "cell_type": "code",
   "execution_count": 37,
   "metadata": {
    "collapsed": false
   },
   "outputs": [
    {
     "name": "stdout",
     "output_type": "stream",
     "text": [
      "[ 0.6052833   0.41667308  0.25615322 -0.61236554 -0.63988313  0.37168804\n",
      "  0.61410788  0.2781484   0.13970052 -0.05722789 -0.3896492   1.04374565\n",
      " -0.50443544 -0.20688448 -0.3654289   0.29843229 -0.36329909 -0.3478208\n",
      "  0.34292639 -0.12246424  0.11056587  0.90374635  0.30558691 -0.40988893\n",
      " -0.15416152  0.62099166 -0.30044111 -0.59837838 -0.32645561  0.74571219\n",
      "  1.10746908 -1.01652427  0.77619208  0.04919451  0.62046469 -1.78782355\n",
      " -0.31946403  1.21919835 -1.32632185 -0.48917959 -1.71064159 -0.44448693\n",
      "  0.20167343  2.18203237  0.34314144  1.24736719 -0.55322536  2.13718375\n",
      "  0.18745165 -1.70850669 -2.03723775 -0.78780306  0.63077313  0.59560583\n",
      " -0.70896571  1.53456827 -1.39429609  0.11010283 -0.18974084  2.27836508\n",
      "  1.32800738  0.51627933  0.64943909 -0.02153013  0.66228187  0.5247958\n",
      " -0.7864229  -2.44100417  0.07857445  1.00203243  0.67193319 -1.07234379\n",
      " -1.09801866  1.94734211 -1.61817934 -0.52224797 -1.85520047  1.01897229\n",
      " -0.36305623 -0.67522524 -1.97963235 -0.67407735  0.52502842  0.13190276\n",
      " -0.83559532  0.63636404 -1.04637062  0.80976431 -0.10780148 -0.33645473\n",
      "  2.18823201  0.48781509  0.79672435  0.86217103  0.27773897 -0.83457766]\n",
      "[  1.01055573e+00   3.72324488e-01   1.36620866e-01  -5.41875756e-01\n",
      "  -4.33564389e-01  -3.06334298e-01   3.35859561e-01  -8.53122570e-02\n",
      "   4.75537395e-03   6.48009764e-02   4.82947670e-01   3.26866064e-01\n",
      "  -1.26255999e+00  -2.04278587e-01   1.33053620e-01   7.85218944e-01\n",
      "   1.27409897e-01  -9.69267871e-01   1.89681924e-01   2.15651730e-01\n",
      "   9.24701391e-01   2.26184905e+00   2.46055067e-01  -1.02052515e+00\n",
      "  -1.61706755e+00   8.21171627e-01   2.63529719e+00  -2.74832113e+00\n",
      "  -1.50634806e+00   1.15910348e+00   4.24302317e+00   4.84730413e+00\n",
      "   1.20406973e-01  -3.41161641e+00  -1.83100271e+00   7.14157852e-01\n",
      "  -2.99268321e+00  -4.99859107e-01   1.37725795e+00  -1.34365750e+00\n",
      "  -3.52867974e+00  -4.96177702e-01   1.07539191e+00   8.58106411e-01\n",
      "   1.02525438e+00   3.46274570e+00   1.60994165e+00   1.16020498e+00\n",
      "  -3.77762805e+00  -2.65371192e+00   2.79429713e+00   9.41981804e+00\n",
      "  -3.78620654e+00  -5.48194682e+00  -3.13901283e+00   2.68894658e+00\n",
      "   4.57649166e+00   4.05869791e+00   5.74348069e+00  -1.01891597e+01\n",
      "  -4.81261441e+00   1.06627752e+01   1.77719677e+01  -1.39026401e+01\n",
      "  -2.51206412e+00   3.90914417e+00  -8.20252609e+00   1.04159681e+00\n",
      "   1.01283106e+01  -5.09048338e+00  -8.32935748e+00   1.70920523e+00\n",
      "   1.30766369e+01  -4.45551637e+00  -3.64396398e+00   1.50544465e+01\n",
      "   9.09879696e+00  -9.91202392e+00  -2.30603948e+01  -5.45799285e+00\n",
      "   1.49099706e+01   2.75710213e+01  -2.06100108e+01  -1.86841074e+01\n",
      "  -5.34250465e+00   6.50434264e+00   1.90057756e+01   7.73530851e+00\n",
      "  -1.06376580e+01  -4.08059502e+00  -3.61812506e+00   1.16467399e+01\n",
      "  -1.65806807e+01  -4.75148714e-01   1.56305571e+01  -5.71142672e+00]\n",
      "89.9222340099\n",
      "5678.01900165\n",
      "0.936689937603\n",
      "59.1460312672\n"
     ]
    }
   ],
   "source": [
    "print(predictions - x[indices]**3)\n",
    "print(predictions1 - x[indices]**3)\n",
    "\n",
    "print(np.sum((predictions - x[indices]**3)**2))\n",
    "print(np.sum((predictions1 - x[indices]**3)**2))\n",
    "\n",
    "varianceTrue = np.sum((predictions - cubic(x)[indices])**2)/len(predictions)\n",
    "print(varianceTrue)\n",
    "varianceTrue = np.sum((predictions1 - cubic(x)[indices])**2)/len(predictions)\n",
    "print(varianceTrue)"
   ]
  },
  {
   "cell_type": "code",
   "execution_count": null,
   "metadata": {
    "collapsed": true
   },
   "outputs": [],
   "source": []
  }
 ],
 "metadata": {
  "kernelspec": {
   "display_name": "Python 3",
   "language": "python",
   "name": "python3"
  },
  "language_info": {
   "codemirror_mode": {
    "name": "ipython",
    "version": 3
   },
   "file_extension": ".py",
   "mimetype": "text/x-python",
   "name": "python",
   "nbconvert_exporter": "python",
   "pygments_lexer": "ipython3",
   "version": "3.5.2"
  }
 },
 "nbformat": 4,
 "nbformat_minor": 0
}
